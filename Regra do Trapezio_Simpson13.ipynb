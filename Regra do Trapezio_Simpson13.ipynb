{
 "cells": [
  {
   "cell_type": "code",
   "execution_count": null,
   "metadata": {},
   "outputs": [],
   "source": [
    "from math import *\n",
    "import numpy as np\n",
    "\n",
    "def funcao(x):\n",
    "    return exp(-1 * cos(x)) / sqrt(2 * x + 4)\n",
    "\n",
    "def regraSimpons13(a,b,m):\n",
    "    h = (b - a) / m\n",
    "    x = a\n",
    "    fun = (1.0 / 3.0) * h *funcao(x)\n",
    "    x = x + h\n",
    "    for i in range(m-1):\n",
    "        if(i%2 == 1):\n",
    "            fun = fun + (1.0 / 3.0) * h * 4.0 * funcao(x)\n",
    "        else:\n",
    "            fun = fun + (1.0 / 3.0) * h * 2.0 * funcao(x)\n",
    "        x = x + h\n",
    "    fun = fun + (1.0 / 3.0) * h * funcao(b)\n",
    "    return fun\n",
    "\n",
    "a = 0.0\n",
    "b = 2.0\n",
    "m = 100\n",
    "\n",
    "res = regraSimpons13(a,b,m)\n",
    "print(res)"
   ]
  }
 ],
 "metadata": {
  "kernelspec": {
   "display_name": "Python 3",
   "language": "python",
   "name": "python3"
  },
  "language_info": {
   "codemirror_mode": {
    "name": "ipython",
    "version": 3
   },
   "file_extension": ".py",
   "mimetype": "text/x-python",
   "name": "python",
   "nbconvert_exporter": "python",
   "pygments_lexer": "ipython3",
   "version": "3.7.1"
  }
 },
 "nbformat": 4,
 "nbformat_minor": 2
}
