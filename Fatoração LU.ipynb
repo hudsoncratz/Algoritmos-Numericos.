{
 "cells": [
  {
   "cell_type": "code",
   "execution_count": null,
   "metadata": {},
   "outputs": [],
   "source": [
    "import numpy as np\n",
    "\n",
    "def fatoraLU(A):  \n",
    "    U = np.copy(A)       #Função para fazer uma copia da matriz A.\n",
    "    n = np.shape(U)[0]   #Função shape serve para remodular uma matriz atribuindo a uma tupla de dimensões.\n",
    "    L = np.eye(n)        #Retorna um array com uns na diagonal e zeros em outro lugar.\n",
    "    for j in np.arange(n-1):  #Função arange retorna valores uniformemente espaçados dentro de um determinado intervalo.\n",
    "        for i in np.arange(j+1,n):  \n",
    "            L[i,j] = U[i,j]/U[j,j]  \n",
    "            for k in np.arange(j+1,n):  \n",
    "                U[i,k] = U[i,k] - L[i,j]*U[j,k]  \n",
    "            U[i,j] = 0  \n",
    "            \n",
    "    return L, U\n",
    "\n",
    "\n",
    "A = [[1.0,1.0,0,3.0],\n",
    "     [2.0,1.0,-1.0,1.0],\n",
    "     [3.0,-1.0,-1.0,2.0],\n",
    "     [-1.0,2.0,3.0,-1.0]]\n",
    "\n",
    "b = [4.0, 1.0, -3.0, 4.0]\n",
    "\n",
    "\n",
    "y,x = fatoraLU(A)\n",
    "\n",
    "sol_y = np.linalg.solve(y,b)    #Função ligalg.solve retorna a solução dos coeficientes da matriz.\n",
    "sol_x = np.linalg.solve(x,sol_y)\n",
    "\n",
    "print(\"\\nMatriz A\")\n",
    "print(A)\n",
    "print(\"\\nMatriz L\")\n",
    "print(y)\n",
    "print(\"\\nMatriz U\")\n",
    "print(x)\n",
    "print(\"\\n Soluções para y\")\n",
    "print(sol_y)\n",
    "print(\"\\nSoluções para X\")\n",
    "print(sol_x)"
   ]
  }
 ],
 "metadata": {
  "kernelspec": {
   "display_name": "Python 3",
   "language": "python",
   "name": "python3"
  },
  "language_info": {
   "codemirror_mode": {
    "name": "ipython",
    "version": 3
   },
   "file_extension": ".py",
   "mimetype": "text/x-python",
   "name": "python",
   "nbconvert_exporter": "python",
   "pygments_lexer": "ipython3",
   "version": "3.7.1"
  }
 },
 "nbformat": 4,
 "nbformat_minor": 2
}
