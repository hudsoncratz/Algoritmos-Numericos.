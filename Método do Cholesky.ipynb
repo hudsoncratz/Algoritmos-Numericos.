{
 "cells": [
  {
   "cell_type": "code",
   "execution_count": null,
   "metadata": {},
   "outputs": [],
   "source": [
    "from math import *\n",
    "\n",
    "def cholesky(A):\n",
    "    L = [[0.0] * len(A) for _ in range(len(A))]\n",
    "    for i, (Ai, Li) in enumerate(zip(A, L)):\n",
    "        for j, Lj in enumerate(L[:i+1]):\n",
    "            s = sum(Li[k] * Lj[k] for k in range(j))\n",
    "            Li[j] = sqrt(Ai[i] - s) if (i == j) else \\\n",
    "                      (1.0 / Lj[j] * (Ai[j] - s))\n",
    "    return L\n",
    "\n",
    "#A = [\n",
    " #       [ 3.00,  2.00,  4.00],\n",
    "  #      [ 1.00,  1.00,  2.00],\n",
    "   #     [ 4.00,  3.00,  2.00]\n",
    "    #]\n",
    "A = [\n",
    "        [ 4.00,  2.00,  -4.00],\n",
    "        [ 2.00,  10.00,  4.00],\n",
    "        [ -4.00,  4.00,  9.00]\n",
    "    ]\n",
    "\n",
    "\n",
    "print(\"Matriz A:\\n\")\n",
    "for i in A:\n",
    "    print(i)\n",
    "funcao = cholesky(A)\n",
    "print(\"\\nMatriz triangular inferior: \")\n",
    "for j in funcao:\n",
    "    print(j)\n",
    "print (\"L:\\n\",funcao)"
   ]
  }
 ],
 "metadata": {
  "kernelspec": {
   "display_name": "Python 3",
   "language": "python",
   "name": "python3"
  },
  "language_info": {
   "codemirror_mode": {
    "name": "ipython",
    "version": 3
   },
   "file_extension": ".py",
   "mimetype": "text/x-python",
   "name": "python",
   "nbconvert_exporter": "python",
   "pygments_lexer": "ipython3",
   "version": "3.7.1"
  }
 },
 "nbformat": 4,
 "nbformat_minor": 2
}
