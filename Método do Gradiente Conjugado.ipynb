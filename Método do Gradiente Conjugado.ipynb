{
 "cells": [
  {
   "cell_type": "code",
   "execution_count": null,
   "metadata": {},
   "outputs": [],
   "source": [
    "import numpy as np \n",
    "\n",
    "def gradConju(A, B, erro):\n",
    "    n = A.shape[0]  #Função shape serve para remodular uma matriz atribuindo a uma tupla de dimensões.\n",
    "    iter = 0\n",
    "    x = np.zeros(n)  #Função zeros cria uma matriz de tamanho n toda zerada.\n",
    "    r = B - np.dot(A,x)  #Função dot faz o produto entre duas matrizes.\n",
    "    s = r\n",
    "    while np.linalg.norm(r) > erro:  #Função linalg.norm calcula a norma matricial.\n",
    "        q = np.dot(A,s)\n",
    "        alpha = np.dot(s, r)/np.dot(s, q)\n",
    "        x = x + alpha*s\n",
    "        r = B - np.dot(A,x)\n",
    "        beta = -np.dot(r, q)/np.dot(s, q)\n",
    "        s = r + beta*s\n",
    "        iter = iter + 1\n",
    "    print(\"Interações: %d\" %(iter))\n",
    "    return x\n",
    "    \n",
    "    \n",
    "A = np.array([ [12.0, 3, -5], [1,5,3], [3,7,13] ])\n",
    "B = np.array([1.0, 28, 76])\n",
    "y = gradConju(A,B,0.001)\n",
    "print(y)"
   ]
  }
 ],
 "metadata": {
  "kernelspec": {
   "display_name": "Python 3",
   "language": "python",
   "name": "python3"
  },
  "language_info": {
   "codemirror_mode": {
    "name": "ipython",
    "version": 3
   },
   "file_extension": ".py",
   "mimetype": "text/x-python",
   "name": "python",
   "nbconvert_exporter": "python",
   "pygments_lexer": "ipython3",
   "version": "3.7.1"
  }
 },
 "nbformat": 4,
 "nbformat_minor": 2
}
