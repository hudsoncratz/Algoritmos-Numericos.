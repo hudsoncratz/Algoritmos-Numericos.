{
 "cells": [
  {
   "cell_type": "code",
   "execution_count": null,
   "metadata": {},
   "outputs": [],
   "source": [
    "from math import *\n",
    "import numpy as np\n",
    "\n",
    "def funcao(x):\n",
    "    return exp(-1 * cos(x)) / sqrt(2 * x + 4)\n",
    "\n",
    "def regraTrapezio(a,b,m):\n",
    "    h = (b - a)/m\n",
    "    x = a\n",
    "    fun = 0.5 * h * funcao(x)\n",
    "    x = x + h\n",
    "    i = 1\n",
    "    for i in (np.arange(m-1)):\n",
    "        fun = fun + h * funcao(x)\n",
    "        x = x + h\n",
    "    \n",
    "    fun = fun + 0.5 * h * funcao(b)\n",
    "    return fun\n",
    "    \n",
    "a = 0.0\n",
    "b = 2.0\n",
    "m = 1000\n",
    "res = regraTrapezio(a,b,m)\n",
    "print(res)"
   ]
  }
 ],
 "metadata": {
  "kernelspec": {
   "display_name": "Python 3",
   "language": "python",
   "name": "python3"
  },
  "language_info": {
   "codemirror_mode": {
    "name": "ipython",
    "version": 3
   },
   "file_extension": ".py",
   "mimetype": "text/x-python",
   "name": "python",
   "nbconvert_exporter": "python",
   "pygments_lexer": "ipython3",
   "version": "3.7.1"
  }
 },
 "nbformat": 4,
 "nbformat_minor": 2
}
