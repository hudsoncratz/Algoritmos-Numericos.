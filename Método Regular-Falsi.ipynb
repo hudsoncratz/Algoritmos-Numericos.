{
 "cells": [
  {
   "cell_type": "code",
   "execution_count": 11,
   "metadata": {},
   "outputs": [
    {
     "name": "stdout",
     "output_type": "stream",
     "text": [
      "Intervalo a: -1\n",
      "Intervalo b: 1\n",
      "Precisão de a: 0.0001\n",
      "Precisão de b: 0.0001\n",
      "Valor: 0.000024\n",
      "Contador: 29\n"
     ]
    }
   ],
   "source": [
    "from math import *\n",
    "\n",
    "def funcao(x):\n",
    "    #return (cos(x) - x)\n",
    "    return ((2 * pow(x,3)) - (4 * pow(x,2)) +(3 * x))\n",
    "\n",
    "a = float(input(\"Intervalo a: \"))\n",
    "b = float(input(\"Intervalo b: \"))\n",
    "precisaoA = float(input(\"Precisão de a: \"))\n",
    "precisaoB = float(input(\"Precisão de b: \"))\n",
    "\n",
    "if(b - a) < precisaoA:\n",
    "    if(abs(funcao(a)) < precisaoB or abs(funcao(b)) < precisaoB):\n",
    "        resposta = a\n",
    "else:\n",
    "    k = 1\n",
    "    M = funcao(a)\n",
    "    while True:\n",
    "        x = ((funcao(b) * a) - (funcao(a) * b))/(funcao(b) - funcao(a))\n",
    "        if(abs(funcao(x)) < precisaoB):\n",
    "            resposta = x\n",
    "            break\n",
    "        elif(M * funcao(x) == 0):\n",
    "            resporta = x\n",
    "            break\n",
    "        elif(M * funcao(x) > 0):\n",
    "            a = x\n",
    "        else:\n",
    "            b = x\n",
    "        if((b - a) <= precisaoA):\n",
    "            resposta = x\n",
    "            break\n",
    "        k = k + 1\n",
    "\n"
   ]
  }
 ],
 "metadata": {
  "kernelspec": {
   "display_name": "Python 3",
   "language": "python",
   "name": "python3"
  },
  "language_info": {
   "codemirror_mode": {
    "name": "ipython",
    "version": 3
   },
   "file_extension": ".py",
   "mimetype": "text/x-python",
   "name": "python",
   "nbconvert_exporter": "python",
   "pygments_lexer": "ipython3",
   "version": "3.7.1"
  }
 },
 "nbformat": 4,
 "nbformat_minor": 2
}
