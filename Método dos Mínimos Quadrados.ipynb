{
 "cells": [
  {
   "cell_type": "code",
   "execution_count": null,
   "metadata": {},
   "outputs": [],
   "source": [
    "import numpy as np\n",
    "import scipy as sp\n",
    "import matplotlib.pyplot as plt\n",
    "\n",
    "def metMinQuadrado(n, erro):\n",
    "    media = 0\n",
    "    desPadrao = 0.1\n",
    "    s = np.random.normal(media, desPadrao, n) #Amostras aleatórias de uma distribuição normal.\n",
    "    x = np.arange(0, n * erro, erro)\n",
    "    y = np.zeros([n])\n",
    "    \n",
    "    for i in range(n):\n",
    "        y[i] = ((x[i]**2 + x[i] +1) + s[i]) #Função utilizada.\n",
    "    \n",
    "    return x, y\n",
    "\n",
    "x, y = metMinQuadrado(10, 0.1)\n",
    "print(x)\n",
    "print(y)\n",
    "\n",
    "#Funções para plotar.\n",
    "def main_plot():\n",
    "    plt.scatter(x, y, s=10)\n",
    "    plt.title(\"\")\n",
    "    plt.autoscale(tight=True)\n",
    "    plt.grid(True, linestyle='-', color='0.75')\n",
    "\n",
    "main_plot()\n",
    "def sin_plot():\n",
    "    fx = sp.linspace(0., 1., num=100) \n",
    "    f1 = np.sin(2 * np.pi * fx)\n",
    "    plt.plot(fx, (fx**2 + fx + 1 ),'C1', linewidth=2)\n",
    "    plt.grid(True, linestyle='-', color='0.75')\n",
    "sin_plot()\n",
    "plt.show()"
   ]
  }
 ],
 "metadata": {
  "kernelspec": {
   "display_name": "Python 3",
   "language": "python",
   "name": "python3"
  },
  "language_info": {
   "codemirror_mode": {
    "name": "ipython",
    "version": 3
   },
   "file_extension": ".py",
   "mimetype": "text/x-python",
   "name": "python",
   "nbconvert_exporter": "python",
   "pygments_lexer": "ipython3",
   "version": "3.7.1"
  }
 },
 "nbformat": 4,
 "nbformat_minor": 2
}
