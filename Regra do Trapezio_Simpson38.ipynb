{
 "cells": [
  {
   "cell_type": "code",
   "execution_count": null,
   "metadata": {},
   "outputs": [],
   "source": [
    "from math import *\n",
    "import numpy as np\n",
    "\n",
    "def funcao(x):\n",
    "    return exp(-1 * cos(x)) / (sqrt(2 * x + 4))\n",
    "\n",
    "def regraSimpson38(a,b,m):\n",
    "    h = (b - a)/m\n",
    "    x = a\n",
    "    func = (3.0 / 8.0) * h * funcao(x)\n",
    "    x = x + h\n",
    "    \n",
    "    for i in np.arange(m-1):\n",
    "        if(i%3 == 0):\n",
    "            func = func + (3.0 / 8.0) * h * 2.0 * funcao(x)\n",
    "        else:\n",
    "            func = func + (3.0 / 8.0) * h * 3.0 * funcao(x)\n",
    "        x = x + h\n",
    "    \n",
    "    func = func + (3.0 / 8.0) * h * funcao(x)\n",
    "    return func\n",
    "\n",
    "a = 0.0\n",
    "b = 2.0\n",
    "m = 100\n",
    "\n",
    "res = regraSimpson38(a,b,m)\n",
    "print(res)"
   ]
  }
 ],
 "metadata": {
  "kernelspec": {
   "display_name": "Python 3",
   "language": "python",
   "name": "python3"
  },
  "language_info": {
   "codemirror_mode": {
    "name": "ipython",
    "version": 3
   },
   "file_extension": ".py",
   "mimetype": "text/x-python",
   "name": "python",
   "nbconvert_exporter": "python",
   "pygments_lexer": "ipython3",
   "version": "3.7.1"
  }
 },
 "nbformat": 4,
 "nbformat_minor": 2
}
