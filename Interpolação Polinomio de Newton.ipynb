{
 "cells": [
  {
   "cell_type": "code",
   "execution_count": null,
   "metadata": {},
   "outputs": [],
   "source": [
    "import numpy as np\n",
    "\n",
    "def interNewton(x, y, z):\n",
    "    l = len(x)\n",
    "    c = len(x)\n",
    "    m = l\n",
    "    Dely = y\n",
    "    \n",
    "    k = 0\n",
    "    while (k < m):\n",
    "        i = m-1\n",
    "        while (i > k):\n",
    "            Dely[i] = (Dely[i] - Dely[i-1])/ (x[i] - x[i-k-1])\n",
    "            i = i - 1\n",
    "        k = k + 1\n",
    "        \n",
    "    r = Dely[m-1]\n",
    "   \n",
    "    i = m - 2\n",
    "    while (i >= 0):\n",
    "        r = r * (z - x[i]) + Dely[i]\n",
    "        i = i - 1\n",
    "    return r\n",
    "\n",
    "x = [0.100, 0.600, 0.800]\n",
    "y = [1.221, 3.320, 4.953]\n",
    "z = 0.2\n",
    "\n",
    "respo = interNewton(x, y, z)\n",
    "print(respo)"
   ]
  }
 ],
 "metadata": {
  "kernelspec": {
   "display_name": "Python 3",
   "language": "python",
   "name": "python3"
  },
  "language_info": {
   "codemirror_mode": {
    "name": "ipython",
    "version": 3
   },
   "file_extension": ".py",
   "mimetype": "text/x-python",
   "name": "python",
   "nbconvert_exporter": "python",
   "pygments_lexer": "ipython3",
   "version": "3.7.1"
  }
 },
 "nbformat": 4,
 "nbformat_minor": 2
}
