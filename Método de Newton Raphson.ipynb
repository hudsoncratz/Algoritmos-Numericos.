{
 "cells": [
  {
   "cell_type": "code",
   "execution_count": 2,
   "metadata": {},
   "outputs": [
    {
     "name": "stdout",
     "output_type": "stream",
     "text": [
      "Valor de x0: 60\n",
      "Precisão A: 0.0001\n",
      "Precisão B: 0.0001\n",
      "Resultado: 0.739085\n",
      "Contador: 9\n"
     ]
    }
   ],
   "source": [
    "from math import *\n",
    "\n",
    "def funcao(x):\n",
    "    return cos(x) - x\n",
    "    #return (cos(x) - pow(x,2))\n",
    "    #return (2 * pow(x,3) - cos(x+1) - 3)\n",
    "\n",
    "def funcaoLinha(x):\n",
    "    return (-sin(x) - 1)\n",
    "    #return ((-sin(x)) - (2 * x))\n",
    "    #return (6*pow(x,2) + sin(x+1))\n",
    "\n",
    "x0 = float(input(\"Valor de x0: \"))\n",
    "precisaoA = float(input(\"Precisão A: \"))\n",
    "precisaoB = float(input(\"Precisão B: \"))\n",
    "\n",
    "if abs(funcao(x0)) < precisaoA:\n",
    "    resultado = x0\n",
    "    print(abs(funcao(x0)))\n",
    "    print(precisaoA)\n",
    "else:\n",
    "    k = 1\n",
    "    while True:\n",
    "        x1 = x0 - (funcao(x0)/funcaoLinha(x0))\n",
    "        if abs(funcao(x1)) < precisaoA or abs(x1 - x0) < precisaoB:\n",
    "            resultado = x1\n",
    "            break\n",
    "        x0 = x1\n",
    "        k = k + 1\n",
    "        \n",
    "print(\"Resultado: %f\" %(resultado))\n",
    "print(\"Contador: %d\" %(k))"
   ]
  },
  {
   "cell_type": "code",
   "execution_count": 14,
   "metadata": {},
   "outputs": [
    {
     "data": {
      "text/plain": [
       "False"
      ]
     },
     "execution_count": 14,
     "metadata": {},
     "output_type": "execute_result"
    }
   ],
   "source": [
    "35<0.0001\n"
   ]
  }
 ],
 "metadata": {
  "kernelspec": {
   "display_name": "Python 3",
   "language": "python",
   "name": "python3"
  },
  "language_info": {
   "codemirror_mode": {
    "name": "ipython",
    "version": 3
   },
   "file_extension": ".py",
   "mimetype": "text/x-python",
   "name": "python",
   "nbconvert_exporter": "python",
   "pygments_lexer": "ipython3",
   "version": "3.7.1"
  }
 },
 "nbformat": 4,
 "nbformat_minor": 2
}
