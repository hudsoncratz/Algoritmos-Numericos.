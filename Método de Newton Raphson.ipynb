{
 "cells": [
  {
   "cell_type": "code",
   "execution_count": null,
   "metadata": {},
   "outputs": [],
   "source": [
    "from math import *\n",
    "\n",
    "def funcao(x):\n",
    "    return cos(x) - x\n",
    "    #return (cos(x) - pow(x,2))\n",
    "    #return (2 * pow(x,3) - cos(x+1) - 3)\n",
    "\n",
    "def funcaoLinha(x):\n",
    "    return (-sin(x) - 1)\n",
    "    #return ((-sin(x)) - (2 * x))\n",
    "    #return (6*pow(x,2) + sin(x+1))\n",
    "\n",
    "x0 = float(input(\"Valor de x0: \"))\n",
    "precisaoA = float(input(\"Precisão A: \"))\n",
    "precisaoB = float(input(\"Precisão B: \"))\n",
    "\n",
    "if abs(funcao(x0)) < precisaoA:\n",
    "    resultado = x0\n",
    "    print(abs(funcao(x0)))\n",
    "    print(precisaoA)\n",
    "else:\n",
    "    k = 1\n",
    "    while True:\n",
    "        x1 = x0 - (funcao(x0)/funcaoLinha(x0))\n",
    "        if abs(funcao(x1)) < precisaoA or abs(x1 - x0) < precisaoB:\n",
    "            resultado = x1\n",
    "            break\n",
    "        x0 = x1\n",
    "        k = k + 1\n",
    "\n",
    "\n",
    "print(\"Resultado: %f\" %(resultado))\n",
    "print(\"Contador: %d\" %(k))"
   ]
  }
 ],
 "metadata": {
  "kernelspec": {
   "display_name": "Python 3",
   "language": "python",
   "name": "python3"
  },
  "language_info": {
   "codemirror_mode": {
    "name": "ipython",
    "version": 3
   },
   "file_extension": ".py",
   "mimetype": "text/x-python",
   "name": "python",
   "nbconvert_exporter": "python",
   "pygments_lexer": "ipython3",
   "version": "3.7.1"
  }
 },
 "nbformat": 4,
 "nbformat_minor": 2
}
