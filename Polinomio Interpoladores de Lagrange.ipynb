{
 "cells": [
  {
   "cell_type": "code",
   "execution_count": null,
   "metadata": {},
   "outputs": [],
   "source": [
    "import numpy as np\n",
    "\n",
    "def lagrange(x, y, z):\n",
    "    l = len(x)\n",
    "    c = len(x)\n",
    "    m = l\n",
    "    r = 0\n",
    "    for i in np.arange(m):\n",
    "        c = 1\n",
    "        d = 1\n",
    "        for j in np.arange(m):\n",
    "            if(i != j):\n",
    "                c = c * (z - x[j])\n",
    "                d = d * (x[i] - x[j])\n",
    "        r = r + y[i] * c / d\n",
    "    return r\n",
    "        \n",
    "x = [0.100, 0.600, 0.800]\n",
    "y = [1.221, 3.320, 4.953]\n",
    "z = 0.200\n",
    "\n",
    "respo = lagrange(x, y, z)\n",
    "print(respo)"
   ]
  }
 ],
 "metadata": {
  "kernelspec": {
   "display_name": "Python 3",
   "language": "python",
   "name": "python3"
  },
  "language_info": {
   "codemirror_mode": {
    "name": "ipython",
    "version": 3
   },
   "file_extension": ".py",
   "mimetype": "text/x-python",
   "name": "python",
   "nbconvert_exporter": "python",
   "pygments_lexer": "ipython3",
   "version": "3.7.1"
  }
 },
 "nbformat": 4,
 "nbformat_minor": 2
}
