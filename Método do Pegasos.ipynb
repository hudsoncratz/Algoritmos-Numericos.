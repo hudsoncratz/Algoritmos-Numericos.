{
 "cells": [
  {
   "cell_type": "code",
   "execution_count": null,
   "metadata": {},
   "outputs": [],
   "source": [
    "from math import *\n",
    "\n",
    "def funcao(x):\n",
    "    #return \n",
    "    return cos(x) - x\n",
    "\n",
    "a = float(input(\"Parametro A: \"))\n",
    "b = float(input(\"Parametro B: \"))\n",
    "toler = float(input(\"Toler: \"))\n",
    "interMax = float(input(\"Maxima de interações: \"))\n",
    "\n",
    "fA = funcao(a)\n",
    "fB = funcao(b)\n",
    "x = b\n",
    "fX = fB\n",
    "inter = 0\n",
    "\n",
    "while True:\n",
    "    deltaX = (-fX/((fB - fA)) * (b - a))\n",
    "    x = x + deltaX\n",
    "    fX = funcao(x)\n",
    "    if((abs(deltaX) <= toler and abs(fX) <= toler) or inter >= interMax):\n",
    "        break\n",
    "    if((fX * fB) < 0):\n",
    "        a = b\n",
    "        fA = fB\n",
    "    else:\n",
    "        fA = (fA * fB) / (fB + fX)\n",
    "    b = x\n",
    "    fB = fX\n",
    "    inter = inter + 1\n",
    "    \n",
    "print(\"Resultado: %f\" %(x))\n",
    "print(\"Interações: %d\" %(inter))"
   ]
  }
 ],
 "metadata": {
  "kernelspec": {
   "display_name": "Python 3",
   "language": "python",
   "name": "python3"
  },
  "language_info": {
   "codemirror_mode": {
    "name": "ipython",
    "version": 3
   },
   "file_extension": ".py",
   "mimetype": "text/x-python",
   "name": "python",
   "nbconvert_exporter": "python",
   "pygments_lexer": "ipython3",
   "version": "3.7.1"
  }
 },
 "nbformat": 4,
 "nbformat_minor": 2
}
