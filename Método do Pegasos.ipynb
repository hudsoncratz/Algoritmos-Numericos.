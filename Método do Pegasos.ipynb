{
 "cells": [
  {
   "cell_type": "code",
   "execution_count": 1,
   "metadata": {},
   "outputs": [
    {
     "name": "stdout",
     "output_type": "stream",
     "text": [
      "Parametro A: 00\n",
      "Parametro B: 0\n",
      "Toler: 0\n",
      "Maxima de interações: 00\n"
     ]
    },
    {
     "ename": "ZeroDivisionError",
     "evalue": "float division by zero",
     "output_type": "error",
     "traceback": [
      "\u001b[1;31m---------------------------------------------------------------------------\u001b[0m",
      "\u001b[1;31mZeroDivisionError\u001b[0m                         Traceback (most recent call last)",
      "\u001b[1;32m<ipython-input-1-00479ee641ec>\u001b[0m in \u001b[0;36m<module>\u001b[1;34m\u001b[0m\n\u001b[0;32m     17\u001b[0m \u001b[1;33m\u001b[0m\u001b[0m\n\u001b[0;32m     18\u001b[0m \u001b[1;32mwhile\u001b[0m \u001b[1;32mTrue\u001b[0m\u001b[1;33m:\u001b[0m\u001b[1;33m\u001b[0m\u001b[1;33m\u001b[0m\u001b[0m\n\u001b[1;32m---> 19\u001b[1;33m     \u001b[0mdeltaX\u001b[0m \u001b[1;33m=\u001b[0m \u001b[1;33m(\u001b[0m\u001b[1;33m-\u001b[0m\u001b[0mfX\u001b[0m\u001b[1;33m/\u001b[0m\u001b[1;33m(\u001b[0m\u001b[1;33m(\u001b[0m\u001b[0mfB\u001b[0m \u001b[1;33m-\u001b[0m \u001b[0mfA\u001b[0m\u001b[1;33m)\u001b[0m\u001b[1;33m)\u001b[0m \u001b[1;33m*\u001b[0m \u001b[1;33m(\u001b[0m\u001b[0mb\u001b[0m \u001b[1;33m-\u001b[0m \u001b[0ma\u001b[0m\u001b[1;33m)\u001b[0m\u001b[1;33m)\u001b[0m\u001b[1;33m\u001b[0m\u001b[1;33m\u001b[0m\u001b[0m\n\u001b[0m\u001b[0;32m     20\u001b[0m     \u001b[0mx\u001b[0m \u001b[1;33m=\u001b[0m \u001b[0mx\u001b[0m \u001b[1;33m+\u001b[0m \u001b[0mdeltaX\u001b[0m\u001b[1;33m\u001b[0m\u001b[1;33m\u001b[0m\u001b[0m\n\u001b[0;32m     21\u001b[0m     \u001b[0mfX\u001b[0m \u001b[1;33m=\u001b[0m \u001b[0mfuncao\u001b[0m\u001b[1;33m(\u001b[0m\u001b[0mx\u001b[0m\u001b[1;33m)\u001b[0m\u001b[1;33m\u001b[0m\u001b[1;33m\u001b[0m\u001b[0m\n",
      "\u001b[1;31mZeroDivisionError\u001b[0m: float division by zero"
     ]
    }
   ],
   "source": [
    "from math import *\n",
    "\n",
    "def funcao(x):\n",
    "    #return \n",
    "    return cos(x) - x\n",
    "\n",
    "a = float(input(\"Parametro A: \"))\n",
    "b = float(input(\"Parametro B: \"))\n",
    "toler = float(input(\"Toler: \"))\n",
    "interMax = float(input(\"Maxima de interações: \"))\n",
    "\n",
    "fA = funcao(a)\n",
    "fB = funcao(b)\n",
    "x = b\n",
    "fX = fB\n",
    "inter = 0\n",
    "\n",
    "while True:\n",
    "    deltaX = (-fX/((fB - fA)) * (b - a))\n",
    "    x = x + deltaX\n",
    "    fX = funcao(x)\n",
    "    if((abs(deltaX) <= toler and abs(fX) <= toler) or inter >= interMax):\n",
    "        break\n",
    "    if((fX * fB) < 0):\n",
    "        a = b\n",
    "        fA = fB\n",
    "    else:\n",
    "        fA = (fA * fB) / (fB + fX)\n",
    "    b = x\n",
    "    fB = fX\n",
    "    inter = inter + 1\n",
    "    \n",
    "print(\"Resultado: %f\" %(x))\n",
    "print(\"Interações: %d\" %(inter))"
   ]
  },
  {
   "cell_type": "code",
   "execution_count": 2,
   "metadata": {},
   "outputs": [
    {
     "data": {
      "text/plain": [
       "3.3333333333333333e-06"
      ]
     },
     "execution_count": 2,
     "metadata": {},
     "output_type": "execute_result"
    }
   ],
   "source": [
    "1/300000"
   ]
  }
 ],
 "metadata": {
  "kernelspec": {
   "display_name": "Python 3",
   "language": "python",
   "name": "python3"
  },
  "language_info": {
   "codemirror_mode": {
    "name": "ipython",
    "version": 3
   },
   "file_extension": ".py",
   "mimetype": "text/x-python",
   "name": "python",
   "nbconvert_exporter": "python",
   "pygments_lexer": "ipython3",
   "version": "3.7.1"
  }
 },
 "nbformat": 4,
 "nbformat_minor": 2
}
