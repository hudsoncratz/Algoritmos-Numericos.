{
 "cells": [
  {
   "cell_type": "code",
   "execution_count": null,
   "metadata": {},
   "outputs": [],
   "source": [
    "from math import *\n",
    "def funcao(a):\n",
    "    #return (cos(a) - a)\n",
    "    return ((2 * pow(a,3)) - (4 * pow(a,2)) + (3 * a))\n",
    "\n",
    "a = float(input(\"Intervalo a: \"))\n",
    "b = float(input(\"Intervalo b: \"))\n",
    "precisao = float(input(\"Precisao: \"))\n",
    "\n",
    "if((b-a) < precisao):\n",
    "    valorX = a\n",
    "else:\n",
    "    k = 1\n",
    "    M = funcao(a)\n",
    "    while True:\n",
    "        x = ((a+b)/2)\n",
    "        if(M * funcao(x) == 0):\n",
    "            valorX = x\n",
    "            break\n",
    "        elif(M * funcao(x) > 0):\n",
    "            a = x\n",
    "        else:\n",
    "            b = x\n",
    "        if(b - a) <=precisao:\n",
    "            valorX = (a + b)/2\n",
    "            break\n",
    "        \n",
    "        k = k + 1\n",
    "\n",
    "print(\"Valor: %f\" %(valorX))\n",
    "print(\"Contador: %d\" %(k))"
   ]
  }
 ],
 "metadata": {
  "kernelspec": {
   "display_name": "Python 3",
   "language": "python",
   "name": "python3"
  },
  "language_info": {
   "codemirror_mode": {
    "name": "ipython",
    "version": 3
   },
   "file_extension": ".py",
   "mimetype": "text/x-python",
   "name": "python",
   "nbconvert_exporter": "python",
   "pygments_lexer": "ipython3",
   "version": "3.7.1"
  }
 },
 "nbformat": 4,
 "nbformat_minor": 2
}
