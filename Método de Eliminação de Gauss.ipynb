{
 "cells": [
  {
   "cell_type": "code",
   "execution_count": null,
   "metadata": {},
   "outputs": [],
   "source": [
    "def triangular(funcao):\n",
    "    n = len(funcao)\n",
    "    for i in range(n):\n",
    "        pivo = funcao[i][i]\n",
    "        for j in range(i+1, n):     #linha\n",
    "            m = -funcao[j][i] / pivo\n",
    "            for k in range(i, n+1):    #coluna\n",
    "                funcao[j][k] = funcao[j][k] + m*funcao[i][k]\n",
    "                \n",
    "                \n",
    "def subistitui(funcao):\n",
    "    n = len(funcao)\n",
    "    x = n * [0]\n",
    "    for i in range(n-1 , -1, -1):\n",
    "        s = sum([funcao[i][j] * x[j] for j in range(i+1, n)])\n",
    "        x[i] = (funcao[i][n] - s) / funcao[i][i]\n",
    "    return x\n",
    "    \n",
    "def resolver(funcao):\n",
    "    triangular(funcao)\n",
    "    x = subistitui(funcao)\n",
    "    return x\n",
    "\n",
    "#funcao = [[3.0,2.0,4.0,1.0],[0.0,(1/3),(2/3),(5/3)],[0,0,-8.0,0]]\n",
    "funcao = [[3.0,2.0,4.0,1.0],[1.0,1.0,2.0,2.0],[4.0,3.0,2.0,3.0]]\n",
    "x = resolver(funcao)\n",
    "\n",
    "\n",
    "for i in x:\n",
    "    print(i)"
   ]
  }
 ],
 "metadata": {
  "kernelspec": {
   "display_name": "Python 3",
   "language": "python",
   "name": "python3"
  },
  "language_info": {
   "codemirror_mode": {
    "name": "ipython",
    "version": 3
   },
   "file_extension": ".py",
   "mimetype": "text/x-python",
   "name": "python",
   "nbconvert_exporter": "python",
   "pygments_lexer": "ipython3",
   "version": "3.7.1"
  }
 },
 "nbformat": 4,
 "nbformat_minor": 2
}
